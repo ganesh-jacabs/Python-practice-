{
 "cells": [
  {
   "cell_type": "code",
   "execution_count": 59,
   "metadata": {},
   "outputs": [
    {
     "name": "stdout",
     "output_type": "stream",
     "text": [
      "Enter your Name:kumar\n"
     ]
    }
   ],
   "source": [
    "a=input(\"Enter your Name:\")"
   ]
  },
  {
   "cell_type": "code",
   "execution_count": 60,
   "metadata": {},
   "outputs": [
    {
     "name": "stdout",
     "output_type": "stream",
     "text": [
      "Enter your Age:15\n"
     ]
    }
   ],
   "source": [
    "b=int(input(\"Enter your Age:\"))"
   ]
  },
  {
   "cell_type": "code",
   "execution_count": 61,
   "metadata": {},
   "outputs": [
    {
     "name": "stdout",
     "output_type": "stream",
     "text": [
      "Welcome to Blackthunder\n",
      "Your Name: kumar\n",
      "Your Age: 15\n",
      "Result: You are non-Adult\n",
      "Entry fee: RS.250/-\n"
     ]
    }
   ],
   "source": [
    "print(\"Welcome to Blackthunder\")\n",
    "print(\"Your Name:\",a)\n",
    "print(\"Your Age:\",b)\n",
    "if (b>=18):\n",
    "    print(\"Result: You are Adult\")\n",
    "    print(\"Entry fee: RS.500/-\")\n",
    "else:\n",
    "    print(\"Result: You are non-Adult\")\n",
    "    print(\"Entry fee: RS.250/-\")\n",
    "    "
   ]
  },
  {
   "cell_type": "code",
   "execution_count": 56,
   "metadata": {},
   "outputs": [],
   "source": []
  },
  {
   "cell_type": "code",
   "execution_count": 64,
   "metadata": {},
   "outputs": [
    {
     "name": "stdout",
     "output_type": "stream",
     "text": [
      "Modern Public School Students Results\n",
      "Result: Pass [B]\n",
      "Result: Pass [B]\n",
      "Result: Fail [No grade]\n",
      "Result: Pass [B+]\n",
      "Result: Pass [B+]\n",
      "Result: Pass [A]\n",
      "Result: Pass [A]\n",
      "Result: Pass [A+]\n",
      "Result: Pass [A+]\n",
      "Result: Fail [No grade]\n",
      "Result: Pass [A+]\n"
     ]
    }
   ],
   "source": [
    "#Students Academic status dependsupon students Marks.\n",
    "\n",
    "lists=[35,45,25,55,70,85,90,95,100,34,99]\n",
    "\n",
    "print(\"Modern Public School Students Results\")\n",
    "\n",
    "for marks in lists:\n",
    "    if(marks<35):\n",
    "        print(\"Result: Fail [No grade]\")\n",
    "    elif(marks<=50):\n",
    "        print(\"Result: Pass [B]\")\n",
    "    elif(marks<=75):\n",
    "        print(\"Result: Pass [B+]\")\n",
    "    elif(marks<=90):\n",
    "        print(\"Result: Pass [A]\")\n",
    "    elif(marks<=100):\n",
    "        print(\"Result: Pass [A+]\")\n",
    "    \n",
    "   \n",
    "       "
   ]
  },
  {
   "cell_type": "code",
   "execution_count": null,
   "metadata": {},
   "outputs": [],
   "source": []
  }
 ],
 "metadata": {
  "kernelspec": {
   "display_name": "Python 3",
   "language": "python",
   "name": "python3"
  },
  "language_info": {
   "codemirror_mode": {
    "name": "ipython",
    "version": 3
   },
   "file_extension": ".py",
   "mimetype": "text/x-python",
   "name": "python",
   "nbconvert_exporter": "python",
   "pygments_lexer": "ipython3",
   "version": "3.7.4"
  }
 },
 "nbformat": 4,
 "nbformat_minor": 2
}
